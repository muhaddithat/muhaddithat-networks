{
 "cells": [
  {
   "cell_type": "code",
   "execution_count": 2,
   "id": "766b9d5a-0b06-4358-a14c-ed1dbf3aaefc",
   "metadata": {},
   "outputs": [],
   "source": [
    "import pandas as pd\n",
    "import networkx as nx"
   ]
  },
  {
   "cell_type": "markdown",
   "id": "f2d778a6-5ae2-4299-a4b0-2df81064c7aa",
   "metadata": {},
   "source": [
    "# Subgraph Extraction\n",
    "\n",
    "Since our dataset is very large, we want to select some subgraph based on our narrators of interest. To use this script, set the desired parameters in the following chunk and run the entire notebook.\n",
    "\n",
    "## Parameters"
   ]
  },
  {
   "cell_type": "code",
   "execution_count": null,
   "id": "5c4a45cf-ea7b-4371-be3b-ff70b9b2a889",
   "metadata": {},
   "outputs": [],
   "source": [
    "#\n",
    "SEED_NODES = None\n",
    "\n",
    "#\n",
    "MAX_DEPTH = None\n",
    "\n",
    "#\n",
    "LATERAL = None\n",
    "\n",
    "#\n",
    "CONNECT_TO_ROOT = None\n",
    "\n",
    "#\n",
    "CONNECT_TO_LEAVES = None"
   ]
  },
  {
   "cell_type": "markdown",
   "id": "8b827579-4762-4923-84c1-d4018032f365",
   "metadata": {},
   "source": [
    "## Load Data into NetworkX"
   ]
  },
  {
   "cell_type": "code",
   "execution_count": 3,
   "id": "67d6e4f2-6d96-4598-98c3-6a23d629491b",
   "metadata": {},
   "outputs": [],
   "source": [
    "cleaned_rawis = pd.read_pickle('./data/cleaned_rawis.pkl')"
   ]
  },
  {
   "cell_type": "code",
   "execution_count": null,
   "id": "96373d61-7c26-4385-a48a-c002ba414b00",
   "metadata": {},
   "outputs": [],
   "source": []
  },
  {
   "cell_type": "markdown",
   "id": "e3957b8f-b9d6-4e11-a9ce-29c7711bc026",
   "metadata": {},
   "source": [
    "## Perform Extraction via BFS"
   ]
  },
  {
   "cell_type": "code",
   "execution_count": null,
   "id": "524b1d97-9aa4-4ee2-9439-fd139cdc0bc4",
   "metadata": {},
   "outputs": [],
   "source": []
  },
  {
   "cell_type": "markdown",
   "id": "f587c552-20ec-4b1e-8b5d-0d8459cb3984",
   "metadata": {},
   "source": [
    "## Output Subsetted Data"
   ]
  },
  {
   "cell_type": "code",
   "execution_count": null,
   "id": "8fe0c6ba-1dbc-45e6-bf17-3ff7e06fabe1",
   "metadata": {},
   "outputs": [],
   "source": []
  }
 ],
 "metadata": {
  "kernelspec": {
   "display_name": "Python 3 (ipykernel)",
   "language": "python",
   "name": "python3"
  },
  "language_info": {
   "codemirror_mode": {
    "name": "ipython",
    "version": 3
   },
   "file_extension": ".py",
   "mimetype": "text/x-python",
   "name": "python",
   "nbconvert_exporter": "python",
   "pygments_lexer": "ipython3",
   "version": "3.8.8"
  }
 },
 "nbformat": 4,
 "nbformat_minor": 5
}
