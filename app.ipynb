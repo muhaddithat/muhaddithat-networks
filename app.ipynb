{
 "cells": [
  {
   "cell_type": "code",
   "execution_count": 1,
   "id": "8cec43c6",
   "metadata": {},
   "outputs": [],
   "source": [
    "from jupyter_dash import JupyterDash\n",
    "import dash_core_components as dcc\n",
    "import dash_html_components as html\n",
    "import dash_cytoscape as cyto\n",
    "from dash.dependencies import Input, Output\n",
    "import plotly.express as px\n",
    "import pandas as pd\n",
    "import networkx as nx\n",
    "import json"
   ]
  },
  {
   "cell_type": "markdown",
   "id": "e0313c2a-8034-43e6-af33-92a1f9f05ab9",
   "metadata": {},
   "source": [
    "# Muhaddithat App\n",
    "\n",
    "This notebook contains all application code for the Muhaddithat dashboard with documentation in markdown. We also have the same code without Jupyter formatting in the file `app.py`, which can be used for deployment on a server.\n",
    "\n",
    "To start the app, click 'run all cells' and visit http://127.0.0.1:8050/ in your web browser.\n",
    "Alternatively, you can open a terminal window, navigate to the project directory, and run `python app.py`. If you use the latter method, make sure you are within a Python environment with all requisite packages installed."
   ]
  },
  {
   "cell_type": "code",
   "execution_count": 2,
   "id": "e1ef703a",
   "metadata": {},
   "outputs": [],
   "source": [
    "app = JupyterDash(__name__)"
   ]
  },
  {
   "cell_type": "markdown",
   "id": "85722bb4-7248-40f6-811c-1ecb242bc021",
   "metadata": {},
   "source": [
    "## Data"
   ]
  },
  {
   "cell_type": "code",
   "execution_count": 3,
   "id": "470dcbcf",
   "metadata": {},
   "outputs": [],
   "source": [
    "filename = 'data/subgraphs/SUBGRAPH_TO-ROOT_MAX-DEPTH-3_SEEDS-53-54-56-59-69-70-71-84-244-2802-10526-10737-11039-11457.cyjs'\n",
    "\n",
    "with open(filename, 'r') as f:\n",
    "    data = json.load(f)"
   ]
  },
  {
   "cell_type": "markdown",
   "id": "915e1aea-b34e-45fa-a4b2-64f943e1dba5",
   "metadata": {},
   "source": [
    "## Styling"
   ]
  },
  {
   "cell_type": "code",
   "execution_count": 4,
   "id": "6423399e-1d12-4305-b34b-6b5d434399b4",
   "metadata": {},
   "outputs": [],
   "source": [
    "default_stylesheet = [\n",
    "    {\n",
    "        'selector': '[gender=\"m\"]',\n",
    "        'style': {\n",
    "            'background-color': '#7b7b7b',\n",
    "            'width':'0.01px',\n",
    "            'height':'0.01px',\n",
    "            'padding':'3px'\n",
    "        }\n",
    "    },\n",
    "    {\n",
    "        'selector':'[gender=\"f\"]',\n",
    "        'style':{\n",
    "            'background-color':'#ff0000',\n",
    "            'width':'0.2px',\n",
    "            'height':'0.2px',\n",
    "            'padding':'3px'\n",
    "        }        \n",
    "    },\n",
    "    {\n",
    "        'selector':'[id=\"1\"]',\n",
    "        'style':{\n",
    "            'background-color':'#8fce00'\n",
    "        }\n",
    "    },\n",
    "    {\n",
    "        'selector': 'edge',\n",
    "        'style': {\n",
    "            'line-color': '#000000',\n",
    "            'width':'0.1px'\n",
    "        }\n",
    "    }\n",
    "]"
   ]
  },
  {
   "cell_type": "markdown",
   "id": "0c63450e-707e-4782-8a11-cf60a5da8e3a",
   "metadata": {},
   "source": [
    "## Layout"
   ]
  },
  {
   "cell_type": "code",
   "execution_count": 5,
   "id": "26557579",
   "metadata": {},
   "outputs": [],
   "source": [
    "app.layout = html.Div([\n",
    "    html.P(\"Dash Cytoscape:\"),\n",
    "    cyto.Cytoscape(\n",
    "        #id='cytoscape',\n",
    "        autoungrabify=True, # Prevent users from moving nodes around.\n",
    "        id='cytoscape-event-callbacks-3',\n",
    "        elements= data['elements'], #edges + nodes,\n",
    "        layout={\n",
    "            'name': 'breadthfirst',\n",
    "            'directed': 'true',\n",
    "            'maximal': 'true',\n",
    "            'roots': '1',\n",
    "            'circle': 'true'\n",
    "        },\n",
    "        style={'width': '100%', 'height': '500px'},\n",
    "        stylesheet=default_stylesheet\n",
    "    ),\n",
    "    dcc.Markdown(id='cytoscape-selectedNodeData-markdown')\n",
    "])"
   ]
  },
  {
   "cell_type": "markdown",
   "id": "6db19338-da3f-426a-a78b-656a035bfe93",
   "metadata": {},
   "source": [
    "## Callbacks"
   ]
  },
  {
   "cell_type": "code",
   "execution_count": 6,
   "id": "b4cbb31e-4731-4e40-afab-5c4960211de8",
   "metadata": {},
   "outputs": [],
   "source": [
    "\n",
    "@app.callback(Output('cytoscape-selectedNodeData-markdown', 'children'),\n",
    "              Input('cytoscape-event-callbacks-3', 'selectedNodeData'))\n",
    "\n",
    "def displaySelectedNodeData(data_list):\n",
    "    if data_list is None:\n",
    "        return \"No narrator selected.\"\n",
    "\n",
    "    narrators_list = [data['label'] for data in data_list]\n",
    "    return \"You selected the following narrators: \" + \"\\n* \".join(narrators_list)"
   ]
  },
  {
   "cell_type": "markdown",
   "id": "0252683a-b6d7-42d7-9ba6-fc95f755350c",
   "metadata": {},
   "source": [
    "## Run App"
   ]
  },
  {
   "cell_type": "code",
   "execution_count": 7,
   "id": "3f44cc5d",
   "metadata": {},
   "outputs": [
    {
     "name": "stdout",
     "output_type": "stream",
     "text": [
      "Dash app running on http://127.0.0.1:8050/\n"
     ]
    }
   ],
   "source": [
    "app.run_server(mode='external')"
   ]
  },
  {
   "cell_type": "code",
   "execution_count": null,
   "id": "dea98138",
   "metadata": {},
   "outputs": [],
   "source": []
  }
 ],
 "metadata": {
  "kernelspec": {
   "display_name": "Python 3 (ipykernel)",
   "language": "python",
   "name": "python3"
  },
  "language_info": {
   "codemirror_mode": {
    "name": "ipython",
    "version": 3
   },
   "file_extension": ".py",
   "mimetype": "text/x-python",
   "name": "python",
   "nbconvert_exporter": "python",
   "pygments_lexer": "ipython3",
   "version": "3.8.8"
  }
 },
 "nbformat": 4,
 "nbformat_minor": 5
}
