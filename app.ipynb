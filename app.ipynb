{
 "cells": [
  {
   "cell_type": "code",
   "execution_count": 1,
   "id": "8cec43c6",
   "metadata": {},
   "outputs": [],
   "source": [
    "from jupyter_dash import JupyterDash\n",
    "import dash_core_components as dcc\n",
    "import dash_html_components as html\n",
    "import dash_cytoscape as cyto\n",
    "from dash.dependencies import Input, Output\n",
    "import plotly.express as px\n",
    "import pandas as pd\n",
    "import networkx as nx\n",
    "import json"
   ]
  },
  {
   "cell_type": "code",
   "execution_count": 2,
   "id": "aca72e14",
   "metadata": {},
   "outputs": [],
   "source": [
    "cyto.load_extra_layouts()"
   ]
  },
  {
   "cell_type": "markdown",
   "id": "e0313c2a-8034-43e6-af33-92a1f9f05ab9",
   "metadata": {},
   "source": [
    "# Muhaddithat App\n",
    "\n",
    "This notebook contains all application code for the Muhaddithat dashboard with documentation in markdown. We also have the same code without Jupyter formatting in the file `app.py`, which can be used for deployment on a server.\n",
    "\n",
    "To start the app, click 'run all cells' and visit http://127.0.0.1:8050/ in your web browser.\n",
    "Alternatively, you can open a terminal window, navigate to the project directory, and run `python app.py` *(note: `app.y` file has not yet been updated)*. If you use the latter method, make sure you are within a Python environment with all requisite packages installed."
   ]
  },
  {
   "cell_type": "code",
   "execution_count": 3,
   "id": "e1ef703a",
   "metadata": {},
   "outputs": [],
   "source": [
    "app = JupyterDash(__name__)"
   ]
  },
  {
   "cell_type": "markdown",
   "id": "85722bb4-7248-40f6-811c-1ecb242bc021",
   "metadata": {},
   "source": [
    "## Data"
   ]
  },
  {
   "cell_type": "code",
   "execution_count": 4,
   "id": "94bae128",
   "metadata": {},
   "outputs": [],
   "source": [
    "filename = 'data/subgraphs/SUBGRAPH_TO-ROOT_MAX-DEPTH-1_SEEDS-53.cyjs'\n",
    "\n",
    "with open(filename, 'r') as f:\n",
    "    data_53 = json.load(f)"
   ]
  },
  {
   "cell_type": "code",
   "execution_count": 5,
   "id": "470dcbcf",
   "metadata": {},
   "outputs": [],
   "source": [
    "#filename = 'data/subgraphs/SUBGRAPH_TO-ROOT_MAX-DEPTH-3_SEEDS-53-54-56-59-69-70-71-84-244-2802-10526-10737-11039-11457.cyjs'\n",
    "filename = 'data/subgraphs/SUBGRAPH_TO-ROOT_MAX-DEPTH-1_SEEDS-11457.cyjs'\n",
    "\n",
    "with open(filename, 'r') as f:\n",
    "    data_11457 = json.load(f)"
   ]
  },
  {
   "cell_type": "code",
   "execution_count": 6,
   "id": "25aba839",
   "metadata": {},
   "outputs": [],
   "source": [
    "data = data_53 # set default/initial data being displayed to Aishah bint Abi Bakr's\n",
    "currentNarrator = 53"
   ]
  },
  {
   "cell_type": "code",
   "execution_count": 7,
   "id": "66698695",
   "metadata": {},
   "outputs": [],
   "source": [
    "with open('data/bios.json', encoding='utf8') as f:\n",
    "    bios = json.load(f)\n",
    "    \n",
    "with open('data/hadith.json', encoding='utf8') as f:\n",
    "    hadiths = json.load(f)"
   ]
  },
  {
   "cell_type": "code",
   "execution_count": 8,
   "id": "d81fe228",
   "metadata": {},
   "outputs": [],
   "source": [
    "# testing\n",
    "# hadiths[0]['NarrationChain']\n",
    "# print(bios[0]['Biography'])"
   ]
  },
  {
   "cell_type": "markdown",
   "id": "915e1aea-b34e-45fa-a4b2-64f943e1dba5",
   "metadata": {},
   "source": [
    "## Styling"
   ]
  },
  {
   "cell_type": "code",
   "execution_count": 9,
   "id": "6423399e-1d12-4305-b34b-6b5d434399b4",
   "metadata": {},
   "outputs": [],
   "source": [
    "default_stylesheet = [\n",
    "    {\n",
    "        'selector': '[gender=\"m\"]',\n",
    "        'style': {\n",
    "            'background-color': '#7b7b7b',\n",
    "            'background-opacity': '0.5',\n",
    "            'width':'0.01px',\n",
    "            'height':'0.01px',\n",
    "            'padding':'3px'\n",
    "        }\n",
    "    },\n",
    "    {\n",
    "        'selector':'[gender=\"f\"]',\n",
    "        'style':{\n",
    "            'background-color':'#ff0000',\n",
    "            'width':'0.2px',\n",
    "            'height':'0.2px',\n",
    "            'padding':'3px'\n",
    "        }        \n",
    "    },\n",
    "    {\n",
    "        'selector':'[id=\"1\"]',\n",
    "        'style':{\n",
    "            'background-color':'#8fce00',\n",
    "            'width':'5px',\n",
    "            'height':'5px',\n",
    "            'background-opacity':'1'\n",
    "        }\n",
    "    },\n",
    "    {\n",
    "        'selector': 'edge',\n",
    "        'style': {\n",
    "            'line-color': '#7b7b7b',\n",
    "            'width':'0.1px',\n",
    "            'opacity':'0.2',\n",
    "            'curve-style': 'bezier',\n",
    "            'target-arrow-shape': 'vee',\n",
    "            'target-arrow-fill': 'hollow',\n",
    "            'arrow-scale':'0.1'\n",
    "        }\n",
    "    }    \n",
    "]"
   ]
  },
  {
   "cell_type": "markdown",
   "id": "0c63450e-707e-4782-8a11-cf60a5da8e3a",
   "metadata": {},
   "source": [
    "## Layout\n",
    "\n",
    "Resources on tabs:\n",
    "- https://dash.plotly.com/dash-core-components#tabs\n",
    "- https://dash.plotly.com/dash-core-components/tabs\n"
   ]
  },
  {
   "cell_type": "code",
   "execution_count": 10,
   "id": "26557579",
   "metadata": {},
   "outputs": [],
   "source": [
    "app.layout = html.Div([\n",
    "    html.Div([\n",
    "    dcc.Dropdown(\n",
    "        id='dropdown1',\n",
    "        options=[{'label': 'Aishah bint Abi Bakr', 'value': '53'} ,\n",
    "                 {'label': 'Umm al-Darda as-Sughra','value': '11457'}],\n",
    "        value='53',    \n",
    "        ),],\n",
    "        style={'width': '20%', 'display': 'inline-block'}\n",
    "    ),\n",
    "    html.Div([\n",
    "    dcc.Tabs(id=\"tabs\", value='tab-1', children=[\n",
    "        dcc.Tab(label='Bio', value='bio'),\n",
    "        dcc.Tab(label='Hadiths', value='hadiths'),\n",
    "    ]),\n",
    "    html.Div(id='tabs-content'),\n",
    "    ],\n",
    "        style={'width':'20%'}\n",
    "    ),\n",
    "    \n",
    "    # section for displaying the graph \n",
    "    cyto.Cytoscape(\n",
    "        id='cytoscape',\n",
    "        autoungrabify=True, # Prevent users from moving nodes around.\n",
    "        elements= data['elements'], #edges + nodes,\n",
    "        layout={\n",
    "            'name': 'breadthfirst',\n",
    "            'directed': 'true',\n",
    "            'maximal': 'true',\n",
    "            'roots': '1', \n",
    "            'circle':'true'\n",
    "        },\n",
    "        # style={'width': '100%', 'height': '500px'},\n",
    "        style={'width':'75%', 'height':'800px'},\n",
    "        stylesheet=default_stylesheet\n",
    "    ),\n",
    "   # dcc.Tooltip(id=\"graph-tooltip-2\", direction='bottom'), # testing\n",
    "    # testing:\n",
    "    html.P(\"Narrator Info:\"), # figure out how to put this on the side.\n",
    "    html.P(id='cytoscape-tapNodeData-output')\n",
    "\n",
    "\n",
    "])"
   ]
  },
  {
   "cell_type": "markdown",
   "id": "6db19338-da3f-426a-a78b-656a035bfe93",
   "metadata": {},
   "source": [
    "## Callbacks\n",
    "\n",
    "https://dash.plotly.com/cytoscape/events\n",
    "\n",
    "\n",
    "https://dash.plotly.com/cytoscape/callbacks\n",
    "\n",
    "\n",
    "https://github.com/27shraddhaS/dropdown-graphs-dash/blob/main/dash-dropdown-graph.ipynb\n"
   ]
  },
  {
   "cell_type": "code",
   "execution_count": 11,
   "id": "b3c57966",
   "metadata": {},
   "outputs": [],
   "source": [
    "@app.callback(Output('cytoscape-tapNodeData-output', 'children'),\n",
    "              Input('cytoscape', 'tapNodeData'))\n",
    "def displayTapNodeData(data):\n",
    "    if data:\n",
    "        return \"You recently clicked on the node for the narrator: \" + data['name']\n",
    "  \n",
    "    \n",
    "# change the graph to view the narrator selected in the dropdown menu\n",
    "\n",
    "@app.callback(Output('cytoscape', 'elements'),\n",
    "              Input('dropdown1', 'value'))\n",
    "\n",
    "def update_elements(value): \n",
    "    if value == '11457':\n",
    "        data = data_11457 # update the data being displayed to the current narrator's\n",
    "        currentNarrator = '11457' # update the current narrator ID\n",
    "    if value == '53':\n",
    "        data = data_53\n",
    "        currentNarrator = '53'\n",
    "    return data['elements']\n",
    "    \n",
    "# Update the stylesheet so that the edges of the selected narrator are colored \n",
    "\n",
    "@app.callback(Output('cytoscape', 'stylesheet'),\n",
    "              Input('dropdown1', 'value'))\n",
    "\n",
    "def update_stylesheet(value):\n",
    "    new_styles = []\n",
    "    if value == '11457':\n",
    "        new_styles = [\n",
    "             {\n",
    "        'selector': 'edge',\n",
    "        'style': {\n",
    "            'line-color': '#7b7b7b',\n",
    "            'width':'0.1px',\n",
    "            'opacity':'0.2',\n",
    "            'curve-style': 'bezier',\n",
    "            'target-arrow-shape': 'vee',\n",
    "            'target-arrow-fill': 'hollow',\n",
    "            'arrow-scale':'0.1'\n",
    "        }\n",
    "    },  \n",
    "            {\n",
    "          'selector':  '[source=\"11457\"]',\n",
    "          'style':{\n",
    "          'line-color':'#ff0000',\n",
    "          'width':'0.1px',\n",
    "          'opacity':'1',\n",
    "          'target-arrow-color':'#ff0000'} \n",
    "        }]\n",
    "    if value == '53':\n",
    "        new_styles = [\n",
    "             {\n",
    "        'selector': 'edge',\n",
    "        'style': {\n",
    "            'line-color': '#7b7b7b',\n",
    "            'width':'0.1px',\n",
    "            'opacity':'0.2',\n",
    "            'curve-style': 'bezier',\n",
    "            'target-arrow-shape': 'vee',\n",
    "            'target-arrow-fill': 'hollow',\n",
    "            'arrow-scale':'0.1'\n",
    "        }\n",
    "    },  {\n",
    "          'selector':  '[source=\"53\"]',\n",
    "          'style':{\n",
    "          'line-color':'#ff0000',\n",
    "          'width':'0.1px',\n",
    "          'opacity':'1',\n",
    "          'target-arrow-color':'#ff0000'} \n",
    "        }]\n",
    "    return default_stylesheet + new_styles\n",
    "\n",
    "\n",
    "# TABS\n",
    "@app.callback(Output('tabs-content', 'children'),\n",
    "              Input('tabs', 'value')) # issue: the tabs do not update whenever a new narrator is selected from the dropdown. perhaps another callback is needed.\n",
    "def render_content(tab):\n",
    "    if tab == 'bio':\n",
    "        for b in bios:\n",
    "            if b['NarratorID'] == currentNarrator:\n",
    "                return html.Div([\n",
    "                    b['Biography'] # issue: it doesn't read the \\n characters\n",
    "                ])\n",
    "    elif tab == 'hadiths':\n",
    "        for h in hadiths:\n",
    "            if currentNarrator in h['NarrationChain']:\n",
    "                return html.Div([\n",
    "                    h['EnglishText'] # issue: it currently just returns after seeing the first hadith, fix so that it shows ALL of them - it must run the whole for loop before returning\n",
    "                ])"
   ]
  },
  {
   "cell_type": "markdown",
   "id": "0252683a-b6d7-42d7-9ba6-fc95f755350c",
   "metadata": {},
   "source": [
    "## Run App"
   ]
  },
  {
   "cell_type": "code",
   "execution_count": 12,
   "id": "3f44cc5d",
   "metadata": {},
   "outputs": [
    {
     "name": "stdout",
     "output_type": "stream",
     "text": [
      "Dash app running on http://127.0.0.1:8050/\n"
     ]
    }
   ],
   "source": [
    "app.run_server(mode='external')"
   ]
  },
  {
   "cell_type": "code",
   "execution_count": null,
   "id": "dea98138",
   "metadata": {},
   "outputs": [],
   "source": []
  }
 ],
 "metadata": {
  "kernelspec": {
   "display_name": "Python 3 (ipykernel)",
   "language": "python",
   "name": "python3"
  },
  "language_info": {
   "codemirror_mode": {
    "name": "ipython",
    "version": 3
   },
   "file_extension": ".py",
   "mimetype": "text/x-python",
   "name": "python",
   "nbconvert_exporter": "python",
   "pygments_lexer": "ipython3",
   "version": "3.7.3"
  }
 },
 "nbformat": 4,
 "nbformat_minor": 5
}
