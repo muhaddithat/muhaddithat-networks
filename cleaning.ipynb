{
 "cells": [
  {
   "cell_type": "code",
   "execution_count": 1,
   "id": "ef518f1b-d68a-43ae-a812-5fd6c0c19bcb",
   "metadata": {},
   "outputs": [],
   "source": [
    "import pandas as pd"
   ]
  },
  {
   "cell_type": "markdown",
   "id": "0e587a75-929e-43f2-81c7-59655e10fb0b",
   "metadata": {},
   "source": [
    "# Data Cleaning\n",
    "\n",
    "Start by removing unneeded variables"
   ]
  },
  {
   "cell_type": "code",
   "execution_count": 2,
   "id": "e360f88b-5eff-4661-a8df-c1247b2f241e",
   "metadata": {},
   "outputs": [],
   "source": [
    "#load data and select columns\n",
    "df = pd.read_csv(\"./data/all_rawis.csv\").loc[\n",
    "    :, ['scholar_indx', 'name', 'grade', 'teachers', 'students',\n",
    "        'area_of_interest', 'tags', 'students_inds', 'teachers_inds']].rename(\n",
    "    columns={'grade':'generation'})"
   ]
  },
  {
   "cell_type": "markdown",
   "id": "6903069f-a70e-40a2-bed0-74e224b3f44b",
   "metadata": {},
   "source": [
    "There are 24326 records in the uncleaned data.\n",
    "\n",
    "## Remove Records Without Teachers\n",
    "\n",
    "Because of the nature of hadith, every narrator should have at least one teacher except the Prophet, who has no teachers. Let's remove all records without teacher indices, except the Prophet. This will also have the effect of ensuring there are no isolated nodes. There are some records that have teacher names but not indices, these are few enough that we can ignore them."
   ]
  },
  {
   "cell_type": "code",
   "execution_count": 3,
   "id": "970b00e2-3d9f-4393-825b-f30d912f7b73",
   "metadata": {},
   "outputs": [],
   "source": [
    "#doing this inside a function to keep variables local\n",
    "#return dataset after removing all records without teacher indices, except the Prophet\n",
    "def rm_noteachers(df):\n",
    "    prophet = df.loc[0,:].to_dict()\n",
    "    narrators = df.loc[1:,:].dropna(subset=['teachers_inds'])\n",
    "    \n",
    "    return narrators.append(\n",
    "        prophet,ignore_index=True).sort_values(\n",
    "        by='scholar_indx',axis='index').set_index('scholar_indx',drop=False)\n",
    "\n",
    "#modify the data\n",
    "df = rm_noteachers(df)"
   ]
  },
  {
   "cell_type": "markdown",
   "id": "2ae4d2e4-0771-46e3-af7d-f9148796c019",
   "metadata": {},
   "source": [
    "There are now 13105 records remaining.\n",
    "\n",
    "## Remove Untrustworthy Narrators\n",
    "\n",
    "The `area_of_interest` column contains some data on trustworthiness for 5448 records, so let's use this to remove all records with a reputation of less than 'sahih'.\n",
    "\n",
    "First, let's extract all of the grades and add them to the dataset as a new column `grade`."
   ]
  },
  {
   "cell_type": "code",
   "execution_count": 4,
   "id": "1a93b557-ae0f-49d8-8e03-7730e6d4fe5d",
   "metadata": {
    "tags": []
   },
   "outputs": [],
   "source": [
    "#extract grades\n",
    "grades = []\n",
    "for item in df['area_of_interest'].str.findall(r\"\\[Grade:[^\\]]+\\]\").values:\n",
    "    if isinstance(item, list):\n",
    "        if len(item) > 0:\n",
    "            grade = item[0].lower().strip('[]').lstrip('grade').lstrip(':')\n",
    "            grades.append(grade)\n",
    "            continue\n",
    "    grades.append('undefined')\n",
    "\n",
    "#assign grade column to the df and remove area_of_interest column\n",
    "df = df.assign(grade=grades)\n",
    "del df['area_of_interest']\n",
    "del grades #remove unneeded variable"
   ]
  },
  {
   "cell_type": "markdown",
   "id": "62ad9545-09a2-48b3-9dbf-7f76828e1f96",
   "metadata": {},
   "source": [
    "Take a look at the unique grade values:"
   ]
  },
  {
   "cell_type": "code",
   "execution_count": 5,
   "id": "eec105a7-a1d1-4512-9f93-b8387b9afe50",
   "metadata": {},
   "outputs": [
    {
     "data": {
      "text/plain": [
       "array(['undefined', 'no doubt', 'thiqah thiqah', 'thiqah', 'maqbool',\n",
       "       'sadooq', 'weak', 'sadooq/delusion', 'not thiqah',\n",
       "       'unknown-majhool', 'abandoned', 'liar', 'accused liar'],\n",
       "      dtype=object)"
      ]
     },
     "execution_count": 5,
     "metadata": {},
     "output_type": "execute_result"
    }
   ],
   "source": [
    "df['grade'].unique()"
   ]
  },
  {
   "cell_type": "markdown",
   "id": "33b6f103-d9d0-4156-8a55-7a04610e00ca",
   "metadata": {},
   "source": [
    "See the data dictionary at muslimscholars.info for explanations of each grade.\n",
    "\n",
    "We are including:\n",
    "TODO\n",
    "\n",
    "We are excluding:\n",
    "TODO\n",
    "\n",
    "Now let's remove all untrustworthy narrators."
   ]
  },
  {
   "cell_type": "code",
   "execution_count": 6,
   "id": "771bff71-64c2-482d-8967-2988ff89c0ee",
   "metadata": {
    "tags": []
   },
   "outputs": [],
   "source": [
    "#again working inside a function to keep variables local\n",
    "#return dataset after removing all untrustworthy narrators\n",
    "def rm_untrustworthy(df):\n",
    "    untrustworthy = [] #this will hold indices to drop\n",
    "    drop_grades = ['abandoned','liar','accused liar','weak','unknown-mahjool'] #grades we are excluding\n",
    "    \n",
    "    #build list of indices of untrustworthy narrators\n",
    "    for indx, grade in df['grade'].items():\n",
    "        if (grade in drop_grades):\n",
    "            untrustworthy.append(indx)\n",
    "                \n",
    "    return df.drop(index=untrustworthy)\n",
    "    \n",
    "#modify the data\n",
    "df = rm_untrustworthy(df)"
   ]
  },
  {
   "cell_type": "markdown",
   "id": "b51af8f6-22fc-451b-8b8e-3f5dea4f0bbd",
   "metadata": {},
   "source": [
    "There are now TODO records remaining."
   ]
  },
  {
   "cell_type": "code",
   "execution_count": 7,
   "id": "fa634873-cd90-49c1-b00e-7d0f7d628446",
   "metadata": {},
   "outputs": [
    {
     "data": {
      "text/plain": [
       "(12692, 9)"
      ]
     },
     "execution_count": 7,
     "metadata": {},
     "output_type": "execute_result"
    }
   ],
   "source": [
    "df.shape"
   ]
  },
  {
   "cell_type": "markdown",
   "id": "b2edea4e-24a0-4241-bc6f-c46d49b5a4aa",
   "metadata": {},
   "source": [
    "## Create Gender Variable\n",
    "\n",
    "Now let's clean up the `tags` column. We are only interested in the `Female` tag, so let's create a new column `gender` where records with a `Female` tag are encoded as `\"f\"` and records without a `Female` tag are encoded as `\"m\"`."
   ]
  },
  {
   "cell_type": "code",
   "execution_count": 8,
   "id": "66e93f77-c2c9-40ff-b0c0-6212c2a3dc58",
   "metadata": {},
   "outputs": [],
   "source": [
    "#tags are stored as a single string\n",
    "#return \"f\" if \"female\" found in tags, otherwise \"m\"\n",
    "def get_gender(tag):\n",
    "    if pd.isna(tag):\n",
    "        return \"m\"\n",
    "    elif tag.lower().find('female') == -1:\n",
    "        return \"m\"\n",
    "    else:\n",
    "        return \"f\"\n",
    "\n",
    "#assign gender column to the df and remove tags column\n",
    "df = df.assign(gender=df['tags'].transform(get_gender))\n",
    "del df['tags']"
   ]
  },
  {
   "cell_type": "markdown",
   "id": "b7b0a936-6145-4aec-a0d8-c23ad4fa5cd7",
   "metadata": {},
   "source": [
    "Check the ratio of males to females in the dataset"
   ]
  },
  {
   "cell_type": "code",
   "execution_count": 9,
   "id": "d1223ad0-157f-4205-b0ae-0e350fb2ca3c",
   "metadata": {},
   "outputs": [
    {
     "data": {
      "text/plain": [
       "m    11484\n",
       "f     1208\n",
       "Name: gender, dtype: int64"
      ]
     },
     "execution_count": 9,
     "metadata": {},
     "output_type": "execute_result"
    }
   ],
   "source": [
    "df['gender'].value_counts()"
   ]
  },
  {
   "cell_type": "code",
   "execution_count": null,
   "id": "ffb16957-f482-4b89-bf20-358167686403",
   "metadata": {},
   "outputs": [],
   "source": []
  },
  {
   "cell_type": "code",
   "execution_count": null,
   "id": "7158a2bb-2ce4-4db1-9a7a-4a51429bd1c7",
   "metadata": {},
   "outputs": [],
   "source": []
  },
  {
   "cell_type": "code",
   "execution_count": 10,
   "id": "fc5b0873-18e4-40a1-9f8d-9c1fc952b4c1",
   "metadata": {},
   "outputs": [
    {
     "data": {
      "text/html": [
       "<div>\n",
       "<style scoped>\n",
       "    .dataframe tbody tr th:only-of-type {\n",
       "        vertical-align: middle;\n",
       "    }\n",
       "\n",
       "    .dataframe tbody tr th {\n",
       "        vertical-align: top;\n",
       "    }\n",
       "\n",
       "    .dataframe thead th {\n",
       "        text-align: right;\n",
       "    }\n",
       "</style>\n",
       "<table border=\"1\" class=\"dataframe\">\n",
       "  <thead>\n",
       "    <tr style=\"text-align: right;\">\n",
       "      <th></th>\n",
       "      <th>scholar_indx</th>\n",
       "      <th>name</th>\n",
       "      <th>generation</th>\n",
       "      <th>teachers</th>\n",
       "      <th>students</th>\n",
       "      <th>students_inds</th>\n",
       "      <th>teachers_inds</th>\n",
       "      <th>grade</th>\n",
       "      <th>gender</th>\n",
       "    </tr>\n",
       "    <tr>\n",
       "      <th>scholar_indx</th>\n",
       "      <th></th>\n",
       "      <th></th>\n",
       "      <th></th>\n",
       "      <th></th>\n",
       "      <th></th>\n",
       "      <th></th>\n",
       "      <th></th>\n",
       "      <th></th>\n",
       "      <th></th>\n",
       "    </tr>\n",
       "  </thead>\n",
       "  <tbody>\n",
       "    <tr>\n",
       "      <th>1</th>\n",
       "      <td>1</td>\n",
       "      <td>Prophet Muhammad(saw) ( محمّد صلّی اللہ علیہ و...</td>\n",
       "      <td>Rasool Allah</td>\n",
       "      <td>NaN</td>\n",
       "      <td>Abu Bakr As-Siddique [2] , 'Umar ibn al-Khatta...</td>\n",
       "      <td>2, 3, 4, 5, 6, 7, 8, 9, 10, 16, 17, 18, 19, 53...</td>\n",
       "      <td>NaN</td>\n",
       "      <td>undefined</td>\n",
       "      <td>m</td>\n",
       "    </tr>\n",
       "    <tr>\n",
       "      <th>2</th>\n",
       "      <td>2</td>\n",
       "      <td>Abu Bakr As-Siddique ( أبو بكر الصديق ( رضي ال...</td>\n",
       "      <td>Comp.(RA) [1st Generation]</td>\n",
       "      <td>Muhammad (saw) [1] ,</td>\n",
       "      <td>'Umar ibn al-Khattab [3] , 'Uthman ibn 'Affaan...</td>\n",
       "      <td>3, 4, 5, 8, 49, 53, 107, 168, 17, 106, 18, 29,...</td>\n",
       "      <td>1</td>\n",
       "      <td>undefined</td>\n",
       "      <td>m</td>\n",
       "    </tr>\n",
       "    <tr>\n",
       "      <th>3</th>\n",
       "      <td>3</td>\n",
       "      <td>'Umar ibn al-Khattab ( عمر بن الخطاب بن نفيل (...</td>\n",
       "      <td>Comp.(RA) [1st Generation]</td>\n",
       "      <td>Muhammad (saw) [1] , Abu Bakr As-Siddique [2]</td>\n",
       "      <td>Hafsa bint Umar [54] , ibn Umar [18] , 'Asim b...</td>\n",
       "      <td>54, 18, 563, 4, 5, 6, 9, 8, 39, 16, 27, 28, 49...</td>\n",
       "      <td>1, 2</td>\n",
       "      <td>undefined</td>\n",
       "      <td>m</td>\n",
       "    </tr>\n",
       "    <tr>\n",
       "      <th>4</th>\n",
       "      <td>4</td>\n",
       "      <td>'Uthman ibn 'Affaan ( عثمان بن عفان ( رضي الله...</td>\n",
       "      <td>Comp.(RA) [1st Generation]</td>\n",
       "      <td>Muhammad (saw) [1] , Abu Bakr As-Siddique [2] ...</td>\n",
       "      <td>Aban bin 'Uthman [10582] , Sa'id bin 'Uthman [...</td>\n",
       "      <td>10582, 10587, 16, 49, 123, 391, 13, 19, 16, 17...</td>\n",
       "      <td>1, 2, 3</td>\n",
       "      <td>undefined</td>\n",
       "      <td>m</td>\n",
       "    </tr>\n",
       "    <tr>\n",
       "      <th>5</th>\n",
       "      <td>5</td>\n",
       "      <td>Ali ibn Abi Talib ( علي بن أبي طالب بن عبد الم...</td>\n",
       "      <td>Comp.(RA) [1st Generation]</td>\n",
       "      <td>Muhammad (saw) [1] , Abu Bakr As-Siddique [2] ...</td>\n",
       "      <td>Hassan ibn Ali bin Abi Talib [30] , Hussain ib...</td>\n",
       "      <td>30, 31, 16, 400, 13, 38, 182, 438, 17, 18, 106...</td>\n",
       "      <td>1, 2, 3, 63, 163</td>\n",
       "      <td>undefined</td>\n",
       "      <td>m</td>\n",
       "    </tr>\n",
       "    <tr>\n",
       "      <th>...</th>\n",
       "      <td>...</td>\n",
       "      <td>...</td>\n",
       "      <td>...</td>\n",
       "      <td>...</td>\n",
       "      <td>...</td>\n",
       "      <td>...</td>\n",
       "      <td>...</td>\n",
       "      <td>...</td>\n",
       "      <td>...</td>\n",
       "    </tr>\n",
       "    <tr>\n",
       "      <th>38948</th>\n",
       "      <td>38948</td>\n",
       "      <td>Yazid bin S'aid al-Sabahi يزيد بن سعيد الصباحي</td>\n",
       "      <td>3rd Century AH</td>\n",
       "      <td>Imam Maalik [20001] , Y'aqub bin 'Abdur Rahman...</td>\n",
       "      <td>NaN</td>\n",
       "      <td>NaN</td>\n",
       "      <td>20001, 20185</td>\n",
       "      <td>thiqah</td>\n",
       "      <td>m</td>\n",
       "    </tr>\n",
       "    <tr>\n",
       "      <th>38992</th>\n",
       "      <td>38992</td>\n",
       "      <td>'Abdul Qahir bin Rashid bin Sa'd عبد القاهر بن...</td>\n",
       "      <td>3rd Century AH</td>\n",
       "      <td>Rashidayn bin Sa'd al-Mahri al-Qayni [26012]</td>\n",
       "      <td>NaN</td>\n",
       "      <td>NaN</td>\n",
       "      <td>26012</td>\n",
       "      <td>thiqah</td>\n",
       "      <td>m</td>\n",
       "    </tr>\n",
       "    <tr>\n",
       "      <th>38996</th>\n",
       "      <td>38996</td>\n",
       "      <td>Muslim bin Yazid bin Madhkur مسلم بن يزيد بن م...</td>\n",
       "      <td>3rd Century AH</td>\n",
       "      <td>Yazid bin Mdhkwr al-Hmdany [17256]</td>\n",
       "      <td>NaN</td>\n",
       "      <td>NaN</td>\n",
       "      <td>17256</td>\n",
       "      <td>thiqah</td>\n",
       "      <td>m</td>\n",
       "    </tr>\n",
       "    <tr>\n",
       "      <th>39104</th>\n",
       "      <td>39104</td>\n",
       "      <td>Ibrahim bin Musa al-Maktab إبراهيم بن موسى المكتب</td>\n",
       "      <td>3rd Century AH</td>\n",
       "      <td>Ma'mar bin Suliaman [28578]</td>\n",
       "      <td>Y'aqub bin Sufyan [38719] , أبو حامد بن هارون ...</td>\n",
       "      <td>38719</td>\n",
       "      <td>28578</td>\n",
       "      <td>thiqah</td>\n",
       "      <td>m</td>\n",
       "    </tr>\n",
       "    <tr>\n",
       "      <th>39144</th>\n",
       "      <td>39144</td>\n",
       "      <td>Isma'il bin Ishaq bin Isma'il إسماعيل بن إسحاق</td>\n",
       "      <td>3rd Century AH</td>\n",
       "      <td>'Abdullah bin Muslima al-Qa'nabi [20164] , Ahm...</td>\n",
       "      <td>NaN</td>\n",
       "      <td>NaN</td>\n",
       "      <td>20164, 30007</td>\n",
       "      <td>thiqah</td>\n",
       "      <td>m</td>\n",
       "    </tr>\n",
       "  </tbody>\n",
       "</table>\n",
       "<p>12692 rows × 9 columns</p>\n",
       "</div>"
      ],
      "text/plain": [
       "              scholar_indx                                               name  \\\n",
       "scholar_indx                                                                    \n",
       "1                        1  Prophet Muhammad(saw) ( محمّد صلّی اللہ علیہ و...   \n",
       "2                        2  Abu Bakr As-Siddique ( أبو بكر الصديق ( رضي ال...   \n",
       "3                        3  'Umar ibn al-Khattab ( عمر بن الخطاب بن نفيل (...   \n",
       "4                        4  'Uthman ibn 'Affaan ( عثمان بن عفان ( رضي الله...   \n",
       "5                        5  Ali ibn Abi Talib ( علي بن أبي طالب بن عبد الم...   \n",
       "...                    ...                                                ...   \n",
       "38948                38948     Yazid bin S'aid al-Sabahi يزيد بن سعيد الصباحي   \n",
       "38992                38992  'Abdul Qahir bin Rashid bin Sa'd عبد القاهر بن...   \n",
       "38996                38996  Muslim bin Yazid bin Madhkur مسلم بن يزيد بن م...   \n",
       "39104                39104  Ibrahim bin Musa al-Maktab إبراهيم بن موسى المكتب   \n",
       "39144                39144     Isma'il bin Ishaq bin Isma'il إسماعيل بن إسحاق   \n",
       "\n",
       "                              generation  \\\n",
       "scholar_indx                               \n",
       "1                           Rasool Allah   \n",
       "2             Comp.(RA) [1st Generation]   \n",
       "3             Comp.(RA) [1st Generation]   \n",
       "4             Comp.(RA) [1st Generation]   \n",
       "5             Comp.(RA) [1st Generation]   \n",
       "...                                  ...   \n",
       "38948                     3rd Century AH   \n",
       "38992                     3rd Century AH   \n",
       "38996                     3rd Century AH   \n",
       "39104                     3rd Century AH   \n",
       "39144                     3rd Century AH   \n",
       "\n",
       "                                                       teachers  \\\n",
       "scholar_indx                                                      \n",
       "1                                                           NaN   \n",
       "2                                          Muhammad (saw) [1] ,   \n",
       "3                 Muhammad (saw) [1] , Abu Bakr As-Siddique [2]   \n",
       "4             Muhammad (saw) [1] , Abu Bakr As-Siddique [2] ...   \n",
       "5             Muhammad (saw) [1] , Abu Bakr As-Siddique [2] ...   \n",
       "...                                                         ...   \n",
       "38948         Imam Maalik [20001] , Y'aqub bin 'Abdur Rahman...   \n",
       "38992              Rashidayn bin Sa'd al-Mahri al-Qayni [26012]   \n",
       "38996                        Yazid bin Mdhkwr al-Hmdany [17256]   \n",
       "39104                               Ma'mar bin Suliaman [28578]   \n",
       "39144         'Abdullah bin Muslima al-Qa'nabi [20164] , Ahm...   \n",
       "\n",
       "                                                       students  \\\n",
       "scholar_indx                                                      \n",
       "1             Abu Bakr As-Siddique [2] , 'Umar ibn al-Khatta...   \n",
       "2             'Umar ibn al-Khattab [3] , 'Uthman ibn 'Affaan...   \n",
       "3             Hafsa bint Umar [54] , ibn Umar [18] , 'Asim b...   \n",
       "4             Aban bin 'Uthman [10582] , Sa'id bin 'Uthman [...   \n",
       "5             Hassan ibn Ali bin Abi Talib [30] , Hussain ib...   \n",
       "...                                                         ...   \n",
       "38948                                                       NaN   \n",
       "38992                                                       NaN   \n",
       "38996                                                       NaN   \n",
       "39104         Y'aqub bin Sufyan [38719] , أبو حامد بن هارون ...   \n",
       "39144                                                       NaN   \n",
       "\n",
       "                                                  students_inds  \\\n",
       "scholar_indx                                                      \n",
       "1             2, 3, 4, 5, 6, 7, 8, 9, 10, 16, 17, 18, 19, 53...   \n",
       "2             3, 4, 5, 8, 49, 53, 107, 168, 17, 106, 18, 29,...   \n",
       "3             54, 18, 563, 4, 5, 6, 9, 8, 39, 16, 27, 28, 49...   \n",
       "4             10582, 10587, 16, 49, 123, 391, 13, 19, 16, 17...   \n",
       "5             30, 31, 16, 400, 13, 38, 182, 438, 17, 18, 106...   \n",
       "...                                                         ...   \n",
       "38948                                                       NaN   \n",
       "38992                                                       NaN   \n",
       "38996                                                       NaN   \n",
       "39104                                                     38719   \n",
       "39144                                                       NaN   \n",
       "\n",
       "                 teachers_inds      grade gender  \n",
       "scholar_indx                                      \n",
       "1                          NaN  undefined      m  \n",
       "2                            1  undefined      m  \n",
       "3                         1, 2  undefined      m  \n",
       "4                      1, 2, 3  undefined      m  \n",
       "5             1, 2, 3, 63, 163  undefined      m  \n",
       "...                        ...        ...    ...  \n",
       "38948             20001, 20185     thiqah      m  \n",
       "38992                    26012     thiqah      m  \n",
       "38996                    17256     thiqah      m  \n",
       "39104                    28578     thiqah      m  \n",
       "39144             20164, 30007     thiqah      m  \n",
       "\n",
       "[12692 rows x 9 columns]"
      ]
     },
     "execution_count": 10,
     "metadata": {},
     "output_type": "execute_result"
    }
   ],
   "source": [
    "df"
   ]
  }
 ],
 "metadata": {
  "kernelspec": {
   "display_name": "Python 3 (ipykernel)",
   "language": "python",
   "name": "python3"
  },
  "language_info": {
   "codemirror_mode": {
    "name": "ipython",
    "version": 3
   },
   "file_extension": ".py",
   "mimetype": "text/x-python",
   "name": "python",
   "nbconvert_exporter": "python",
   "pygments_lexer": "ipython3",
   "version": "3.8.8"
  },
  "toc-autonumbering": true,
  "toc-showmarkdowntxt": true
 },
 "nbformat": 4,
 "nbformat_minor": 5
}
