{
 "cells": [
  {
   "cell_type": "code",
   "execution_count": 41,
   "metadata": {},
   "outputs": [],
   "source": [
    "import pandas as pd\n",
    "import math"
   ]
  },
  {
   "cell_type": "markdown",
   "metadata": {},
   "source": [
    "# Data Cleaning\n",
    "\n",
    "Start by removing unneeded variables"
   ]
  },
  {
   "cell_type": "code",
   "execution_count": 2,
   "metadata": {},
   "outputs": [],
   "source": [
    "#load data and select columns\n",
    "df = pd.read_csv(\"./data/all_rawis.csv\", index_col='scholar_indx').loc[\n",
    "    :, ['name', 'grade', 'teachers', 'students', 'area_of_interest',\n",
    "        'tags', 'students_inds', 'teachers_inds']]"
   ]
  },
  {
   "cell_type": "markdown",
   "metadata": {},
   "source": [
    "There are 24326 records in the uncleaned data.\n",
    "\n",
    "We want to now remove records that have neither teachers nor students, since these will be isolated in the graph.\n",
    "\n",
    "Dropping records with neither teacher nor student indices leaves 13755 remaining records, 651 of which still lack teacher indices, and 383 of which lack teacher names.\n",
    "\n",
    "Dropping records with neither teacher nor student names leaves 13870 remaining records, 766 of which lack teacher indices and 434 of which lack teacher names.\n",
    "\n",
    "In either case, around 300 of the remaining records contain teacher names but not indices. Since both this number and 13870-13755=115 are relatively small, it should be safe to disregard records based on absence of teacher/student indices.\n",
    "\n",
    "It may be that some of the remaining records without teacher indices are missing data. Would you expect many people other than the Prophet to have no teachers? Is this even possible?"
   ]
  },
  {
   "cell_type": "code",
   "execution_count": 3,
   "metadata": {},
   "outputs": [
    {
     "data": {
      "text/plain": [
       "False    13104\n",
       "True       651\n",
       "Name: teachers_inds, dtype: int64"
      ]
     },
     "execution_count": 3,
     "metadata": {},
     "output_type": "execute_result"
    }
   ],
   "source": [
    "#remove records missing both teacher and student indices\n",
    "df.dropna(how='all', subset=['students_inds', 'teachers_inds'], inplace=True)\n",
    "\n",
    "#count records without teacher indices\n",
    "df['teachers_inds'].isna().value_counts()"
   ]
  },
  {
   "cell_type": "markdown",
   "metadata": {},
   "source": [
    "Now let's clean up the `tags` column. We are only interested in the `Female` tag, so let's create a new column `gender` where records with a `Female` tag are encoded as `\"f\"` and records without a `Female` tag are encoded as `\"m\"`."
   ]
  },
  {
   "cell_type": "code",
   "execution_count": 4,
   "metadata": {},
   "outputs": [],
   "source": [
    "#tags are stored as a single string\n",
    "#return \"f\" if \"female\" found in tags, otherwise \"m\"\n",
    "def get_gender(tag):\n",
    "    if pd.isna(tag):\n",
    "        return \"m\"\n",
    "    elif tag.lower().find('female') == -1:\n",
    "        return \"m\"\n",
    "    else:\n",
    "        return \"f\"\n",
    "\n",
    "#append gender column to the df and remove tags column\n",
    "df = df.assign(gender=df['tags'].transform(get_gender))\n",
    "del df['tags']"
   ]
  },
  {
   "cell_type": "markdown",
   "metadata": {},
   "source": [
    "Check the ratio of males to females in the dataset"
   ]
  },
  {
   "cell_type": "code",
   "execution_count": 5,
   "metadata": {},
   "outputs": [
    {
     "data": {
      "text/plain": [
       "m    12523\n",
       "f     1232\n",
       "Name: gender, dtype: int64"
      ]
     },
     "execution_count": 5,
     "metadata": {},
     "output_type": "execute_result"
    }
   ],
   "source": [
    "df['gender'].value_counts()"
   ]
  },
  {
   "cell_type": "markdown",
   "metadata": {},
   "source": [
    "The `area_of_interest` column contains some data on trustworthiness, so let's use this to remove all records with a reputation of less than 'sahih'."
   ]
  },
  {
   "cell_type": "code",
   "execution_count": 52,
   "metadata": {},
   "outputs": [
    {
     "data": {
      "text/plain": [
       "Index(['name', 'grade', 'teachers', 'students', 'area_of_interest',\n",
       "       'students_inds', 'teachers_inds', 'gender'],\n",
       "      dtype='object')"
      ]
     },
     "execution_count": 52,
     "metadata": {},
     "output_type": "execute_result"
    }
   ],
   "source": [
    "df.columns"
   ]
  },
  {
   "cell_type": "markdown",
   "metadata": {},
   "source": [
    "Now we want to get lists of narrators and their students. \n",
    "The following code generates a dictionary specifically for Aishah r.a. and a list of ids of her students."
   ]
  },
  {
   "cell_type": "code",
   "execution_count": 7,
   "metadata": {},
   "outputs": [
    {
     "data": {
      "text/plain": [
       "{53: [70, 106, 13, 17, 18, 41, 28, 10535, 10511, 10520, 10521, 10522, 11002]}"
      ]
     },
     "execution_count": 7,
     "metadata": {},
     "output_type": "execute_result"
    }
   ],
   "source": [
    "aishahsStudents = [int(x) for x in list(df.loc[53]['students_inds'].split(\", \"))]\n",
    "students = {53 : aishahsStudents}\n",
    "students # a dictionary for Aishah r.a. and her students"
   ]
  },
  {
   "cell_type": "markdown",
   "metadata": {},
   "source": [
    "The following code segments expands the dictionary to include keys for each of Aishah's students, with their values being a list of their students."
   ]
  },
  {
   "cell_type": "code",
   "execution_count": 25,
   "metadata": {},
   "outputs": [
    {
     "data": {
      "text/plain": [
       "14"
      ]
     },
     "execution_count": 25,
     "metadata": {},
     "output_type": "execute_result"
    }
   ],
   "source": [
    "for i in aishahsStudents: # iterate through Aishah's students\n",
    "    students[i] = [int(x) for x in list(df.loc[i]['students_inds'].split(\", \"))]\n",
    "\n",
    "len(students) # a dictionary for Aishah r.a. and her students and her students' students"
   ]
  },
  {
   "cell_type": "markdown",
   "metadata": {},
   "source": [
    "Goal: we want to make a function that, given a starting index and a max degree, will return a dictionary of teachers and students.\n",
    "\n",
    "Note: I am using a try statement here because the data appears to have unexpected values for indices (like \"nan\") that throw errors with the split() method. So using \"try\", I just avoid any entry that throws an error."
   ]
  },
  {
   "cell_type": "code",
   "execution_count": 46,
   "metadata": {},
   "outputs": [],
   "source": [
    "\n",
    "\n",
    "def studentLists(startInd, maxDegree):\n",
    "    # build the initial dictionary with an entry for the startInd (starting narrator) and a list of all her students\n",
    "    narrators = {startInd : [int(x) for x in list(df.loc[startInd]['students_inds'].split(\", \"))]}\n",
    "    i = 0\n",
    "    while i < maxDegree:\n",
    "        i += 1\n",
    "        values = narrators.copy().values() # make a copy because an error is thrown when the dictionary changes in the middle of an iteration\n",
    "        for valuelist in values: # iterate through the list of student indices\n",
    "            for value in valuelist:\n",
    "                try:  \n",
    "                    narrators[value] = [int(x) for x in list(df.loc[value]['students_inds'].split(\", \"))]\n",
    "                except:\n",
    "                    continue\n",
    "    return narrators\n"
   ]
  },
  {
   "cell_type": "markdown",
   "metadata": {},
   "source": [
    "- startInd = 53 -> Aishah bint Abi Bakr r.a.\n",
    "- maxDegree = 0 -> Aishah and her students\n",
    "- maxDegree = 1 -> Aishah and her students and her students' students\n",
    "- maxDegree = 2 -> Aishah and her students and her students' students and her students' students' students."
   ]
  },
  {
   "cell_type": "code",
   "execution_count": 48,
   "metadata": {},
   "outputs": [],
   "source": [
    "# startInd = 53 -> Aishah bint Abi Bakr r.a.\n",
    "# maxDegree = 0 -> Aishah and her students\n",
    "# maxDegree = 1 -> Aishah and her students and her students' students\n",
    "# maxDegree = 2 -> Aishah and her students and her students' students and her students' students' students.\n",
    "\n",
    "x = studentLists(53, 2)\n",
    "len(x)      "
   ]
  },
  {
   "cell_type": "code",
   "execution_count": 51,
   "metadata": {},
   "outputs": [
    {
     "data": {
      "text/plain": [
       "153"
      ]
     },
     "execution_count": 51,
     "metadata": {},
     "output_type": "execute_result"
    }
   ],
   "source": [
    "x"
   ]
  },
  {
   "cell_type": "code",
   "execution_count": 41,
   "metadata": {},
   "outputs": [
    {
     "data": {
      "text/html": [
       "<div>\n",
       "<style scoped>\n",
       "    .dataframe tbody tr th:only-of-type {\n",
       "        vertical-align: middle;\n",
       "    }\n",
       "\n",
       "    .dataframe tbody tr th {\n",
       "        vertical-align: top;\n",
       "    }\n",
       "\n",
       "    .dataframe thead th {\n",
       "        text-align: right;\n",
       "    }\n",
       "</style>\n",
       "<table border=\"1\" class=\"dataframe\">\n",
       "  <thead>\n",
       "    <tr style=\"text-align: right;\">\n",
       "      <th></th>\n",
       "      <th>name</th>\n",
       "      <th>grade</th>\n",
       "      <th>teachers</th>\n",
       "      <th>students</th>\n",
       "      <th>area_of_interest</th>\n",
       "      <th>students_inds</th>\n",
       "      <th>teachers_inds</th>\n",
       "      <th>gender</th>\n",
       "    </tr>\n",
       "    <tr>\n",
       "      <th>scholar_indx</th>\n",
       "      <th></th>\n",
       "      <th></th>\n",
       "      <th></th>\n",
       "      <th></th>\n",
       "      <th></th>\n",
       "      <th></th>\n",
       "      <th></th>\n",
       "      <th></th>\n",
       "    </tr>\n",
       "  </thead>\n",
       "  <tbody>\n",
       "    <tr>\n",
       "      <th>1</th>\n",
       "      <td>Prophet Muhammad(saw) ( محمّد صلّی اللہ علیہ و...</td>\n",
       "      <td>Rasool Allah</td>\n",
       "      <td>NaN</td>\n",
       "      <td>Abu Bakr As-Siddique [2] , 'Umar ibn al-Khatta...</td>\n",
       "      <td>Tafsir/Quran, Recitation/Quran, Hadith, Comman...</td>\n",
       "      <td>2, 3, 4, 5, 6, 7, 8, 9, 10, 16, 17, 18, 19, 53...</td>\n",
       "      <td>NaN</td>\n",
       "      <td>m</td>\n",
       "    </tr>\n",
       "    <tr>\n",
       "      <th>2</th>\n",
       "      <td>Abu Bakr As-Siddique ( أبو بكر الصديق ( رضي ال...</td>\n",
       "      <td>Comp.(RA) [1st Generation]</td>\n",
       "      <td>Muhammad (saw) [1] ,</td>\n",
       "      <td>'Umar ibn al-Khattab [3] , 'Uthman ibn 'Affaan...</td>\n",
       "      <td>Tafsir/Quran, Recitation/Quran, Narrator [ ع  ...</td>\n",
       "      <td>3, 4, 5, 8, 49, 53, 107, 168, 17, 106, 18, 29,...</td>\n",
       "      <td>1</td>\n",
       "      <td>m</td>\n",
       "    </tr>\n",
       "    <tr>\n",
       "      <th>3</th>\n",
       "      <td>'Umar ibn al-Khattab ( عمر بن الخطاب بن نفيل (...</td>\n",
       "      <td>Comp.(RA) [1st Generation]</td>\n",
       "      <td>Muhammad (saw) [1] , Abu Bakr As-Siddique [2]</td>\n",
       "      <td>Hafsa bint Umar [54] , ibn Umar [18] , 'Asim b...</td>\n",
       "      <td>Tafsir/Quran, Recitation/Quran, Narrator [ ع  ...</td>\n",
       "      <td>54, 18, 563, 4, 5, 6, 9, 8, 39, 16, 27, 28, 49...</td>\n",
       "      <td>1, 2</td>\n",
       "      <td>m</td>\n",
       "    </tr>\n",
       "    <tr>\n",
       "      <th>4</th>\n",
       "      <td>'Uthman ibn 'Affaan ( عثمان بن عفان ( رضي الله...</td>\n",
       "      <td>Comp.(RA) [1st Generation]</td>\n",
       "      <td>Muhammad (saw) [1] , Abu Bakr As-Siddique [2] ...</td>\n",
       "      <td>Aban bin 'Uthman [10582] , Sa'id bin 'Uthman [...</td>\n",
       "      <td>Tafsir/Quran, Narrator [ ع  -  صحابة ], Fiqh, ...</td>\n",
       "      <td>10582, 10587, 16, 49, 123, 391, 13, 19, 16, 17...</td>\n",
       "      <td>1, 2, 3</td>\n",
       "      <td>m</td>\n",
       "    </tr>\n",
       "    <tr>\n",
       "      <th>5</th>\n",
       "      <td>Ali ibn Abi Talib ( علي بن أبي طالب بن عبد الم...</td>\n",
       "      <td>Comp.(RA) [1st Generation]</td>\n",
       "      <td>Muhammad (saw) [1] , Abu Bakr As-Siddique [2] ...</td>\n",
       "      <td>Hassan ibn Ali bin Abi Talib [30] , Hussain ib...</td>\n",
       "      <td>Tafsir/Quran, Recitation/Quran, Narrator [ ع  ...</td>\n",
       "      <td>30, 31, 16, 400, 13, 38, 182, 438, 17, 18, 106...</td>\n",
       "      <td>1, 2, 3, 63, 163</td>\n",
       "      <td>m</td>\n",
       "    </tr>\n",
       "    <tr>\n",
       "      <th>...</th>\n",
       "      <td>...</td>\n",
       "      <td>...</td>\n",
       "      <td>...</td>\n",
       "      <td>...</td>\n",
       "      <td>...</td>\n",
       "      <td>...</td>\n",
       "      <td>...</td>\n",
       "      <td>...</td>\n",
       "    </tr>\n",
       "    <tr>\n",
       "      <th>38948</th>\n",
       "      <td>Yazid bin S'aid al-Sabahi يزيد بن سعيد الصباحي</td>\n",
       "      <td>3rd Century AH</td>\n",
       "      <td>Imam Maalik [20001] , Y'aqub bin 'Abdur Rahman...</td>\n",
       "      <td>NaN</td>\n",
       "      <td>Narrator[Grade:Thiqah]</td>\n",
       "      <td>NaN</td>\n",
       "      <td>20001, 20185</td>\n",
       "      <td>m</td>\n",
       "    </tr>\n",
       "    <tr>\n",
       "      <th>38992</th>\n",
       "      <td>'Abdul Qahir bin Rashid bin Sa'd عبد القاهر بن...</td>\n",
       "      <td>3rd Century AH</td>\n",
       "      <td>Rashidayn bin Sa'd al-Mahri al-Qayni [26012]</td>\n",
       "      <td>NaN</td>\n",
       "      <td>Narrator[Grade:Thiqah]</td>\n",
       "      <td>NaN</td>\n",
       "      <td>26012</td>\n",
       "      <td>m</td>\n",
       "    </tr>\n",
       "    <tr>\n",
       "      <th>38996</th>\n",
       "      <td>Muslim bin Yazid bin Madhkur مسلم بن يزيد بن م...</td>\n",
       "      <td>3rd Century AH</td>\n",
       "      <td>Yazid bin Mdhkwr al-Hmdany [17256]</td>\n",
       "      <td>NaN</td>\n",
       "      <td>Narrator[Grade:Thiqah]</td>\n",
       "      <td>NaN</td>\n",
       "      <td>17256</td>\n",
       "      <td>m</td>\n",
       "    </tr>\n",
       "    <tr>\n",
       "      <th>39104</th>\n",
       "      <td>Ibrahim bin Musa al-Maktab إبراهيم بن موسى المكتب</td>\n",
       "      <td>3rd Century AH</td>\n",
       "      <td>Ma'mar bin Suliaman [28578]</td>\n",
       "      <td>Y'aqub bin Sufyan [38719] , أبو حامد بن هارون ...</td>\n",
       "      <td>Narrator[Grade:Thiqah]</td>\n",
       "      <td>38719</td>\n",
       "      <td>28578</td>\n",
       "      <td>m</td>\n",
       "    </tr>\n",
       "    <tr>\n",
       "      <th>39144</th>\n",
       "      <td>Isma'il bin Ishaq bin Isma'il إسماعيل بن إسحاق</td>\n",
       "      <td>3rd Century AH</td>\n",
       "      <td>'Abdullah bin Muslima al-Qa'nabi [20164] , Ahm...</td>\n",
       "      <td>NaN</td>\n",
       "      <td>Narrator[Grade:Thiqah]</td>\n",
       "      <td>NaN</td>\n",
       "      <td>20164, 30007</td>\n",
       "      <td>m</td>\n",
       "    </tr>\n",
       "  </tbody>\n",
       "</table>\n",
       "<p>13755 rows × 8 columns</p>\n",
       "</div>"
      ],
      "text/plain": [
       "                                                           name  \\\n",
       "scholar_indx                                                      \n",
       "1             Prophet Muhammad(saw) ( محمّد صلّی اللہ علیہ و...   \n",
       "2             Abu Bakr As-Siddique ( أبو بكر الصديق ( رضي ال...   \n",
       "3             'Umar ibn al-Khattab ( عمر بن الخطاب بن نفيل (...   \n",
       "4             'Uthman ibn 'Affaan ( عثمان بن عفان ( رضي الله...   \n",
       "5             Ali ibn Abi Talib ( علي بن أبي طالب بن عبد الم...   \n",
       "...                                                         ...   \n",
       "38948            Yazid bin S'aid al-Sabahi يزيد بن سعيد الصباحي   \n",
       "38992         'Abdul Qahir bin Rashid bin Sa'd عبد القاهر بن...   \n",
       "38996         Muslim bin Yazid bin Madhkur مسلم بن يزيد بن م...   \n",
       "39104         Ibrahim bin Musa al-Maktab إبراهيم بن موسى المكتب   \n",
       "39144            Isma'il bin Ishaq bin Isma'il إسماعيل بن إسحاق   \n",
       "\n",
       "                                   grade  \\\n",
       "scholar_indx                               \n",
       "1                           Rasool Allah   \n",
       "2             Comp.(RA) [1st Generation]   \n",
       "3             Comp.(RA) [1st Generation]   \n",
       "4             Comp.(RA) [1st Generation]   \n",
       "5             Comp.(RA) [1st Generation]   \n",
       "...                                  ...   \n",
       "38948                     3rd Century AH   \n",
       "38992                     3rd Century AH   \n",
       "38996                     3rd Century AH   \n",
       "39104                     3rd Century AH   \n",
       "39144                     3rd Century AH   \n",
       "\n",
       "                                                       teachers  \\\n",
       "scholar_indx                                                      \n",
       "1                                                           NaN   \n",
       "2                                          Muhammad (saw) [1] ,   \n",
       "3                 Muhammad (saw) [1] , Abu Bakr As-Siddique [2]   \n",
       "4             Muhammad (saw) [1] , Abu Bakr As-Siddique [2] ...   \n",
       "5             Muhammad (saw) [1] , Abu Bakr As-Siddique [2] ...   \n",
       "...                                                         ...   \n",
       "38948         Imam Maalik [20001] , Y'aqub bin 'Abdur Rahman...   \n",
       "38992              Rashidayn bin Sa'd al-Mahri al-Qayni [26012]   \n",
       "38996                        Yazid bin Mdhkwr al-Hmdany [17256]   \n",
       "39104                               Ma'mar bin Suliaman [28578]   \n",
       "39144         'Abdullah bin Muslima al-Qa'nabi [20164] , Ahm...   \n",
       "\n",
       "                                                       students  \\\n",
       "scholar_indx                                                      \n",
       "1             Abu Bakr As-Siddique [2] , 'Umar ibn al-Khatta...   \n",
       "2             'Umar ibn al-Khattab [3] , 'Uthman ibn 'Affaan...   \n",
       "3             Hafsa bint Umar [54] , ibn Umar [18] , 'Asim b...   \n",
       "4             Aban bin 'Uthman [10582] , Sa'id bin 'Uthman [...   \n",
       "5             Hassan ibn Ali bin Abi Talib [30] , Hussain ib...   \n",
       "...                                                         ...   \n",
       "38948                                                       NaN   \n",
       "38992                                                       NaN   \n",
       "38996                                                       NaN   \n",
       "39104         Y'aqub bin Sufyan [38719] , أبو حامد بن هارون ...   \n",
       "39144                                                       NaN   \n",
       "\n",
       "                                               area_of_interest  \\\n",
       "scholar_indx                                                      \n",
       "1             Tafsir/Quran, Recitation/Quran, Hadith, Comman...   \n",
       "2             Tafsir/Quran, Recitation/Quran, Narrator [ ع  ...   \n",
       "3             Tafsir/Quran, Recitation/Quran, Narrator [ ع  ...   \n",
       "4             Tafsir/Quran, Narrator [ ع  -  صحابة ], Fiqh, ...   \n",
       "5             Tafsir/Quran, Recitation/Quran, Narrator [ ع  ...   \n",
       "...                                                         ...   \n",
       "38948                                    Narrator[Grade:Thiqah]   \n",
       "38992                                    Narrator[Grade:Thiqah]   \n",
       "38996                                    Narrator[Grade:Thiqah]   \n",
       "39104                                    Narrator[Grade:Thiqah]   \n",
       "39144                                    Narrator[Grade:Thiqah]   \n",
       "\n",
       "                                                  students_inds  \\\n",
       "scholar_indx                                                      \n",
       "1             2, 3, 4, 5, 6, 7, 8, 9, 10, 16, 17, 18, 19, 53...   \n",
       "2             3, 4, 5, 8, 49, 53, 107, 168, 17, 106, 18, 29,...   \n",
       "3             54, 18, 563, 4, 5, 6, 9, 8, 39, 16, 27, 28, 49...   \n",
       "4             10582, 10587, 16, 49, 123, 391, 13, 19, 16, 17...   \n",
       "5             30, 31, 16, 400, 13, 38, 182, 438, 17, 18, 106...   \n",
       "...                                                         ...   \n",
       "38948                                                       NaN   \n",
       "38992                                                       NaN   \n",
       "38996                                                       NaN   \n",
       "39104                                                     38719   \n",
       "39144                                                       NaN   \n",
       "\n",
       "                 teachers_inds gender  \n",
       "scholar_indx                           \n",
       "1                          NaN      m  \n",
       "2                            1      m  \n",
       "3                         1, 2      m  \n",
       "4                      1, 2, 3      m  \n",
       "5             1, 2, 3, 63, 163      m  \n",
       "...                        ...    ...  \n",
       "38948             20001, 20185      m  \n",
       "38992                    26012      m  \n",
       "38996                    17256      m  \n",
       "39104                    28578      m  \n",
       "39144             20164, 30007      m  \n",
       "\n",
       "[13755 rows x 8 columns]"
      ]
     },
     "execution_count": 41,
     "metadata": {},
     "output_type": "execute_result"
    }
   ],
   "source": [
    "df"
   ]
  },
  {
   "cell_type": "code",
   "execution_count": null,
   "metadata": {},
   "outputs": [],
   "source": []
  }
 ],
 "metadata": {
  "interpreter": {
   "hash": "76bf5271334c370c1bfa97a17722864aaf327a0c81c7c096d2561442ed8fdfd4"
  },
  "kernelspec": {
   "display_name": "Python 3.7.3 64-bit ('base': conda)",
   "name": "python3"
  },
  "language_info": {
   "codemirror_mode": {
    "name": "ipython",
    "version": 3
   },
   "file_extension": ".py",
   "mimetype": "text/x-python",
   "name": "python",
   "nbconvert_exporter": "python",
   "pygments_lexer": "ipython3",
   "version": "3.7.3"
  },
  "toc-autonumbering": true,
  "toc-showmarkdowntxt": true
 },
 "nbformat": 4,
 "nbformat_minor": 5
}
